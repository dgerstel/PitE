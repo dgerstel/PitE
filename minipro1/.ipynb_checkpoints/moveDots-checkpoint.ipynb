{
 "metadata": {
  "name": ""
 },
 "nbformat": 3,
 "nbformat_minor": 0,
 "worksheets": [
  {
   "cells": [
    {
     "cell_type": "code",
     "collapsed": false,
     "input": [
      "%pylab"
     ],
     "language": "python",
     "metadata": {},
     "outputs": [
      {
       "output_type": "stream",
       "stream": "stdout",
       "text": [
        "Using matplotlib backend: TkAgg\n",
        "Populating the interactive namespace from numpy and matplotlib\n"
       ]
      }
     ],
     "prompt_number": 3
    },
    {
     "cell_type": "code",
     "collapsed": false,
     "input": [
      "class Plot(object):\n",
      "    \"\"\" class representing an interactive plot, e.i. user controls\n",
      "        coordinates of points via keyboard arrows:\n",
      "        up/down move current point on the plot\n",
      "        left/right accordingly switch to the next point \"\"\"\n",
      "\n",
      "    # static variables (not to waste memory)\n",
      "    #control_cmds = ['up','down','left','right','ctrl+left','ctrl+right','ctrl+up','ctrl+down']\n",
      "    control = {'up':1,'down':-1}\n",
      "    changePoint = {'left':-1, 'right':1}\n",
      "    \n",
      "    def __init__(self, x_max, points=10, dy = 0.5):\n",
      "        \"\"\" *x_max* limits the x-axis to [0; x_max]\n",
      "            *points* is linspace # of points in the x-axis\n",
      "            *dy* is increment step of up/down shifting points on the plot\n",
      "            \n",
      "            Draws initial plot with y=0 for all x's \"\"\"\n",
      "        \n",
      "        assert x_max > 0 and points > 0 and dy > 0.0\n",
      "        self.x_max = x_max\n",
      "        self.points = points\n",
      "        self.dy = dy\n",
      "        \n",
      "        # draw a blank plot\n",
      "        self.fig, self.ax = plt.subplots()\n",
      "        self.ax.autoscale()\n",
      "        self.x = np.linspace(0., self.x_max, self.points)\n",
      "        self.y = np.zeros(self.points)\n",
      "        self.ax.set_xlim([-0.05, 1.1*x_max])\n",
      "        self.p1, = self.ax.plot(self.x, self.y, 'bo') # intercept the plot's handle *p1*\n",
      "        print self.p1.get_xdata(), self.p1.get_ydata()\n",
      "        \n",
      "        # which point to consider currently from [0, self.points]\n",
      "        self.currInd = 0\n",
      "        \n",
      "        # Keyboard control\n",
      "        # disable 'g' as grid and other default (useless here) key-bindings\n",
      "        self.fig.canvas.mpl_disconnect(self.fig.canvas.manager.key_press_handler_id)\n",
      "        # monitor the keyboard and respond accordingly (*on_key_press*)\n",
      "        self.fig.canvas.mpl_connect('key_press_event', self.on_key_press)\n",
      "        \n",
      "    def increment(self, mul):\n",
      "        print 'incr'\n",
      "        self.y[self.currInd] += mul * self.dy\n",
      "        \n",
      "    def changeIndex(self, direction):\n",
      "        print 'changeIndex'\n",
      "        self.currInd += direction\n",
      "        if self.currInd >= self.points:\n",
      "            self.currInd = 0\n",
      "        elif self.currInd < 0:\n",
      "            self.currInd = self.points - 1\n",
      "            \n",
      "    def refreshPlot(self):        \n",
      "        self.p1.set_ydata(self.y)    \n",
      "        print self.p1.get_ydata()\n",
      "        self.ax.set_ylim([-0.5, 1.1 * max(self.p1.get_ydata())])\n",
      "        self.fig.canvas.draw()       \n",
      "    \n",
      "    def on_key_press(self, event):\n",
      "        print 'on_key_press'\n",
      "        # If the key is one of the shorthand color notations, set the line color\n",
      "        if event.key in 'rgbcmyk':\n",
      "            pass\n",
      "            #self.ax.set_color(event.key)\n",
      "        if event.key in Plot.control.keys():\n",
      "            print Plot.control[event.key]\n",
      "            self.increment(Plot.control[event.key])\n",
      "        if event.key in Plot.changePoint.keys():\n",
      "            self.changeIndex(Plot.changePoint[event.key])\n",
      "        \n",
      "        self.refreshPlot()\n",
      "        \n",
      "alt = Plot(7.5)\n",
      "#alt2 = Plot(7.5, -2)\n",
      "#alt3 = Plot(-1)"
     ],
     "language": "python",
     "metadata": {},
     "outputs": [
      {
       "output_type": "stream",
       "stream": "stdout",
       "text": [
        "\n",
        "1\n",
        "incr\n",
        "[ 1.   0.5  1.   0.5  1.   1.5  1.5  1.5  1.   0.5]\n",
        "[ 0.          0.83333333  1.66666667  2.5         3.33333333  4.16666667\n",
        "  5.          5.83333333  6.66666667  7.5       ]"
       ]
      },
      {
       "output_type": "stream",
       "stream": "stdout",
       "text": [
        " [ 0.  0.  0.  0.  0.  0.  0.  0.  0.  0.]\n"
       ]
      }
     ],
     "prompt_number": 39
    },
    {
     "cell_type": "code",
     "collapsed": false,
     "input": [],
     "language": "python",
     "metadata": {},
     "outputs": [],
     "prompt_number": 39
    },
    {
     "cell_type": "code",
     "collapsed": false,
     "input": [],
     "language": "python",
     "metadata": {},
     "outputs": []
    }
   ],
   "metadata": {}
  }
 ]
}