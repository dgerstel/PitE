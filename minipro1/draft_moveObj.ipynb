{
 "metadata": {
  "name": ""
 },
 "nbformat": 3,
 "nbformat_minor": 0,
 "worksheets": [
  {
   "cells": [
    {
     "cell_type": "code",
     "collapsed": false,
     "input": [
      "%pylab"
     ],
     "language": "python",
     "metadata": {},
     "outputs": [
      {
       "output_type": "stream",
       "stream": "stdout",
       "text": [
        "Using matplotlib backend: TkAgg\n",
        "Populating the interactive namespace from numpy and matplotlib\n"
       ]
      }
     ],
     "prompt_number": 1
    },
    {
     "cell_type": "code",
     "collapsed": false,
     "input": [
      "fig, ax = plt.subplots()\n",
      "arr = ax.arrow(0, 0, 0.5, 0.5, head_width=0.05, head_length=0.1, fc='k', ec='k')\n",
      "plt.show()\n",
      "\n",
      "control_cmds = ['up','down','left','right','ctrl+left','ctrl+right','ctrl+up','ctrl+down']\n",
      "\n",
      "class Vector(object):\n",
      "    def __init__(self,r,phi,theta):\n",
      "        self.r = r\n",
      "        self.phi = phi\n",
      "        self.theta = theta\n",
      "        \n",
      "v1 = Vector(1,2,3)\n",
      "#print v1.r\n",
      "\n",
      "control = {\"up\":Vector(1,0,0), \"down\":Vector(-1,0,0)}\n",
      "\n",
      "def on_key_press(event):\n",
      "    # If the key is one of the shorthand color notations, set the line color\n",
      "    if event.key in 'rgbcmyk':\n",
      "        line.set_color(event.key)\n",
      "    if event.key in control.keys():\n",
      "        print control[event.key]\n",
      "        \n",
      "    fig.canvas.draw()\n",
      "\n",
      "# disable 'g' as grid and other default key-bindings\n",
      "fig.canvas.mpl_disconnect(fig.canvas.manager.key_press_handler_id)\n",
      "fig.canvas.mpl_connect('key_press_event', on_key_press)"
     ],
     "language": "python",
     "metadata": {},
     "outputs": [
      {
       "output_type": "stream",
       "stream": "stdout",
       "text": [
        "\n"
       ]
      },
      {
       "metadata": {},
       "output_type": "pyout",
       "prompt_number": 13,
       "text": [
        "6"
       ]
      },
      {
       "output_type": "stream",
       "stream": "stdout",
       "text": [
        "<__main__.Vector object at 0x7f88a7fe5210>\n",
        "<__main__.Vector object at 0x7f88ac5f7fd0>"
       ]
      },
      {
       "output_type": "stream",
       "stream": "stdout",
       "text": [
        "\n",
        "<__main__.Vector object at 0x7f88a7fe5210>"
       ]
      },
      {
       "output_type": "stream",
       "stream": "stdout",
       "text": [
        "\n",
        "<__main__.Vector object at 0x7f88ac5f7fd0>"
       ]
      },
      {
       "output_type": "stream",
       "stream": "stdout",
       "text": [
        "\n",
        "<__main__.Vector object at 0x7f88a7fe5210>"
       ]
      },
      {
       "output_type": "stream",
       "stream": "stdout",
       "text": [
        "\n",
        "<__main__.Vector object at 0x7f88ac5f7fd0>"
       ]
      }
     ],
     "prompt_number": 13
    },
    {
     "cell_type": "code",
     "collapsed": false,
     "input": [],
     "language": "python",
     "metadata": {},
     "outputs": []
    }
   ],
   "metadata": {}
  }
 ]
}